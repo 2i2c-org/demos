{
 "cells": [
  {
   "cell_type": "code",
   "execution_count": 9,
   "id": "200b7b5f",
   "metadata": {
    "slideshow": {
     "slide_type": "skip"
    }
   },
   "outputs": [
    {
     "name": "stdout",
     "output_type": "stream",
     "text": [
      "Requirement already satisfied: rise in /srv/conda/envs/notebook/lib/python3.10/site-packages (5.7.1)\n",
      "Requirement already satisfied: notebook>=6.0 in /srv/conda/envs/notebook/lib/python3.10/site-packages (from rise) (6.5.4)\n",
      "Requirement already satisfied: jinja2 in /srv/conda/envs/notebook/lib/python3.10/site-packages (from notebook>=6.0->rise) (3.1.2)\n",
      "Requirement already satisfied: tornado>=6.1 in /srv/conda/envs/notebook/lib/python3.10/site-packages (from notebook>=6.0->rise) (6.3.2)\n",
      "Requirement already satisfied: pyzmq>=17 in /srv/conda/envs/notebook/lib/python3.10/site-packages (from notebook>=6.0->rise) (25.1.0)\n",
      "Requirement already satisfied: argon2-cffi in /srv/conda/envs/notebook/lib/python3.10/site-packages (from notebook>=6.0->rise) (21.3.0)\n",
      "Requirement already satisfied: traitlets>=4.2.1 in /srv/conda/envs/notebook/lib/python3.10/site-packages (from notebook>=6.0->rise) (5.9.0)\n",
      "Requirement already satisfied: jupyter-core>=4.6.1 in /srv/conda/envs/notebook/lib/python3.10/site-packages (from notebook>=6.0->rise) (5.3.1)\n",
      "Requirement already satisfied: jupyter-client>=5.3.4 in /srv/conda/envs/notebook/lib/python3.10/site-packages (from notebook>=6.0->rise) (8.2.0)\n",
      "Requirement already satisfied: ipython-genutils in /srv/conda/envs/notebook/lib/python3.10/site-packages (from notebook>=6.0->rise) (0.2.0)\n",
      "Requirement already satisfied: nbformat in /srv/conda/envs/notebook/lib/python3.10/site-packages (from notebook>=6.0->rise) (5.9.0)\n",
      "Requirement already satisfied: nbconvert>=5 in /srv/conda/envs/notebook/lib/python3.10/site-packages (from notebook>=6.0->rise) (7.6.0)\n",
      "Requirement already satisfied: nest-asyncio>=1.5 in /srv/conda/envs/notebook/lib/python3.10/site-packages (from notebook>=6.0->rise) (1.5.6)\n",
      "Requirement already satisfied: ipykernel in /srv/conda/envs/notebook/lib/python3.10/site-packages (from notebook>=6.0->rise) (6.23.1)\n",
      "Requirement already satisfied: Send2Trash>=1.8.0 in /srv/conda/envs/notebook/lib/python3.10/site-packages (from notebook>=6.0->rise) (1.8.2)\n",
      "Requirement already satisfied: terminado>=0.8.3 in /srv/conda/envs/notebook/lib/python3.10/site-packages (from notebook>=6.0->rise) (0.17.1)\n",
      "Requirement already satisfied: prometheus-client in /srv/conda/envs/notebook/lib/python3.10/site-packages (from notebook>=6.0->rise) (0.17.0)\n",
      "Requirement already satisfied: nbclassic>=0.4.7 in /srv/conda/envs/notebook/lib/python3.10/site-packages (from notebook>=6.0->rise) (1.0.0)\n",
      "Requirement already satisfied: python-dateutil>=2.8.2 in /srv/conda/envs/notebook/lib/python3.10/site-packages (from jupyter-client>=5.3.4->notebook>=6.0->rise) (2.8.2)\n",
      "Requirement already satisfied: platformdirs>=2.5 in /srv/conda/envs/notebook/lib/python3.10/site-packages (from jupyter-core>=4.6.1->notebook>=6.0->rise) (3.6.0)\n",
      "Requirement already satisfied: jupyter-server>=1.8 in /srv/conda/envs/notebook/lib/python3.10/site-packages (from nbclassic>=0.4.7->notebook>=6.0->rise) (2.6.0)\n",
      "Requirement already satisfied: notebook-shim>=0.2.3 in /srv/conda/envs/notebook/lib/python3.10/site-packages (from nbclassic>=0.4.7->notebook>=6.0->rise) (0.2.3)\n",
      "Requirement already satisfied: beautifulsoup4 in /srv/conda/envs/notebook/lib/python3.10/site-packages (from nbconvert>=5->notebook>=6.0->rise) (4.12.2)\n",
      "Requirement already satisfied: bleach!=5.0.0 in /srv/conda/envs/notebook/lib/python3.10/site-packages (from nbconvert>=5->notebook>=6.0->rise) (6.0.0)\n",
      "Requirement already satisfied: defusedxml in /srv/conda/envs/notebook/lib/python3.10/site-packages (from nbconvert>=5->notebook>=6.0->rise) (0.7.1)\n",
      "Requirement already satisfied: jupyterlab-pygments in /srv/conda/envs/notebook/lib/python3.10/site-packages (from nbconvert>=5->notebook>=6.0->rise) (0.2.2)\n",
      "Requirement already satisfied: markupsafe>=2.0 in /srv/conda/envs/notebook/lib/python3.10/site-packages (from nbconvert>=5->notebook>=6.0->rise) (2.1.3)\n",
      "Requirement already satisfied: mistune<4,>=2.0.3 in /srv/conda/envs/notebook/lib/python3.10/site-packages (from nbconvert>=5->notebook>=6.0->rise) (3.0.0)\n",
      "Requirement already satisfied: nbclient>=0.5.0 in /srv/conda/envs/notebook/lib/python3.10/site-packages (from nbconvert>=5->notebook>=6.0->rise) (0.8.0)\n",
      "Requirement already satisfied: packaging in /srv/conda/envs/notebook/lib/python3.10/site-packages (from nbconvert>=5->notebook>=6.0->rise) (23.1)\n",
      "Requirement already satisfied: pandocfilters>=1.4.1 in /srv/conda/envs/notebook/lib/python3.10/site-packages (from nbconvert>=5->notebook>=6.0->rise) (1.5.0)\n",
      "Requirement already satisfied: pygments>=2.4.1 in /srv/conda/envs/notebook/lib/python3.10/site-packages (from nbconvert>=5->notebook>=6.0->rise) (2.15.1)\n",
      "Requirement already satisfied: tinycss2 in /srv/conda/envs/notebook/lib/python3.10/site-packages (from nbconvert>=5->notebook>=6.0->rise) (1.2.1)\n",
      "Requirement already satisfied: fastjsonschema in /srv/conda/envs/notebook/lib/python3.10/site-packages (from nbformat->notebook>=6.0->rise) (2.17.1)\n",
      "Requirement already satisfied: jsonschema>=2.6 in /srv/conda/envs/notebook/lib/python3.10/site-packages (from nbformat->notebook>=6.0->rise) (4.17.3)\n",
      "Requirement already satisfied: ptyprocess in /srv/conda/envs/notebook/lib/python3.10/site-packages (from terminado>=0.8.3->notebook>=6.0->rise) (0.7.0)\n",
      "Requirement already satisfied: argon2-cffi-bindings in /srv/conda/envs/notebook/lib/python3.10/site-packages (from argon2-cffi->notebook>=6.0->rise) (21.2.0)\n",
      "Requirement already satisfied: comm>=0.1.1 in /srv/conda/envs/notebook/lib/python3.10/site-packages (from ipykernel->notebook>=6.0->rise) (0.1.3)\n",
      "Requirement already satisfied: debugpy>=1.6.5 in /srv/conda/envs/notebook/lib/python3.10/site-packages (from ipykernel->notebook>=6.0->rise) (1.6.7)\n",
      "Requirement already satisfied: ipython>=7.23.1 in /srv/conda/envs/notebook/lib/python3.10/site-packages (from ipykernel->notebook>=6.0->rise) (8.14.0)\n",
      "Requirement already satisfied: matplotlib-inline>=0.1 in /srv/conda/envs/notebook/lib/python3.10/site-packages (from ipykernel->notebook>=6.0->rise) (0.1.6)\n",
      "Requirement already satisfied: psutil in /srv/conda/envs/notebook/lib/python3.10/site-packages (from ipykernel->notebook>=6.0->rise) (5.9.5)\n",
      "Requirement already satisfied: six>=1.9.0 in /srv/conda/envs/notebook/lib/python3.10/site-packages (from bleach!=5.0.0->nbconvert>=5->notebook>=6.0->rise) (1.16.0)\n",
      "Requirement already satisfied: webencodings in /srv/conda/envs/notebook/lib/python3.10/site-packages (from bleach!=5.0.0->nbconvert>=5->notebook>=6.0->rise) (0.5.1)\n",
      "Requirement already satisfied: backcall in /srv/conda/envs/notebook/lib/python3.10/site-packages (from ipython>=7.23.1->ipykernel->notebook>=6.0->rise) (0.2.0)\n",
      "Requirement already satisfied: decorator in /srv/conda/envs/notebook/lib/python3.10/site-packages (from ipython>=7.23.1->ipykernel->notebook>=6.0->rise) (5.1.1)\n",
      "Requirement already satisfied: jedi>=0.16 in /srv/conda/envs/notebook/lib/python3.10/site-packages (from ipython>=7.23.1->ipykernel->notebook>=6.0->rise) (0.18.2)\n",
      "Requirement already satisfied: pickleshare in /srv/conda/envs/notebook/lib/python3.10/site-packages (from ipython>=7.23.1->ipykernel->notebook>=6.0->rise) (0.7.5)\n",
      "Requirement already satisfied: prompt-toolkit!=3.0.37,<3.1.0,>=3.0.30 in /srv/conda/envs/notebook/lib/python3.10/site-packages (from ipython>=7.23.1->ipykernel->notebook>=6.0->rise) (3.0.38)\n",
      "Requirement already satisfied: stack-data in /srv/conda/envs/notebook/lib/python3.10/site-packages (from ipython>=7.23.1->ipykernel->notebook>=6.0->rise) (0.6.2)\n",
      "Requirement already satisfied: pexpect>4.3 in /srv/conda/envs/notebook/lib/python3.10/site-packages (from ipython>=7.23.1->ipykernel->notebook>=6.0->rise) (4.8.0)\n",
      "Requirement already satisfied: attrs>=17.4.0 in /srv/conda/envs/notebook/lib/python3.10/site-packages (from jsonschema>=2.6->nbformat->notebook>=6.0->rise) (23.1.0)\n",
      "Requirement already satisfied: pyrsistent!=0.17.0,!=0.17.1,!=0.17.2,>=0.14.0 in /srv/conda/envs/notebook/lib/python3.10/site-packages (from jsonschema>=2.6->nbformat->notebook>=6.0->rise) (0.19.3)\n",
      "Requirement already satisfied: anyio>=3.1.0 in /srv/conda/envs/notebook/lib/python3.10/site-packages (from jupyter-server>=1.8->nbclassic>=0.4.7->notebook>=6.0->rise) (3.7.0)\n",
      "Requirement already satisfied: jupyter-events>=0.6.0 in /srv/conda/envs/notebook/lib/python3.10/site-packages (from jupyter-server>=1.8->nbclassic>=0.4.7->notebook>=6.0->rise) (0.6.3)\n",
      "Requirement already satisfied: jupyter-server-terminals in /srv/conda/envs/notebook/lib/python3.10/site-packages (from jupyter-server>=1.8->nbclassic>=0.4.7->notebook>=6.0->rise) (0.4.4)\n",
      "Requirement already satisfied: overrides in /srv/conda/envs/notebook/lib/python3.10/site-packages (from jupyter-server>=1.8->nbclassic>=0.4.7->notebook>=6.0->rise) (7.3.1)\n",
      "Requirement already satisfied: websocket-client in /srv/conda/envs/notebook/lib/python3.10/site-packages (from jupyter-server>=1.8->nbclassic>=0.4.7->notebook>=6.0->rise) (1.6.0)\n"
     ]
    },
    {
     "name": "stdout",
     "output_type": "stream",
     "text": [
      "Requirement already satisfied: cffi>=1.0.1 in /srv/conda/envs/notebook/lib/python3.10/site-packages (from argon2-cffi-bindings->argon2-cffi->notebook>=6.0->rise) (1.15.1)\n",
      "Requirement already satisfied: soupsieve>1.2 in /srv/conda/envs/notebook/lib/python3.10/site-packages (from beautifulsoup4->nbconvert>=5->notebook>=6.0->rise) (2.3.2.post1)\n",
      "Requirement already satisfied: idna>=2.8 in /srv/conda/envs/notebook/lib/python3.10/site-packages (from anyio>=3.1.0->jupyter-server>=1.8->nbclassic>=0.4.7->notebook>=6.0->rise) (3.4)\n",
      "Requirement already satisfied: sniffio>=1.1 in /srv/conda/envs/notebook/lib/python3.10/site-packages (from anyio>=3.1.0->jupyter-server>=1.8->nbclassic>=0.4.7->notebook>=6.0->rise) (1.3.0)\n",
      "Requirement already satisfied: exceptiongroup in /srv/conda/envs/notebook/lib/python3.10/site-packages (from anyio>=3.1.0->jupyter-server>=1.8->nbclassic>=0.4.7->notebook>=6.0->rise) (1.1.1)\n",
      "Requirement already satisfied: pycparser in /srv/conda/envs/notebook/lib/python3.10/site-packages (from cffi>=1.0.1->argon2-cffi-bindings->argon2-cffi->notebook>=6.0->rise) (2.21)\n",
      "Requirement already satisfied: parso<0.9.0,>=0.8.0 in /srv/conda/envs/notebook/lib/python3.10/site-packages (from jedi>=0.16->ipython>=7.23.1->ipykernel->notebook>=6.0->rise) (0.8.3)\n",
      "Requirement already satisfied: python-json-logger>=2.0.4 in /srv/conda/envs/notebook/lib/python3.10/site-packages (from jupyter-events>=0.6.0->jupyter-server>=1.8->nbclassic>=0.4.7->notebook>=6.0->rise) (2.0.7)\n",
      "Requirement already satisfied: pyyaml>=5.3 in /srv/conda/envs/notebook/lib/python3.10/site-packages (from jupyter-events>=0.6.0->jupyter-server>=1.8->nbclassic>=0.4.7->notebook>=6.0->rise) (5.4.1)\n",
      "Requirement already satisfied: rfc3339-validator in /srv/conda/envs/notebook/lib/python3.10/site-packages (from jupyter-events>=0.6.0->jupyter-server>=1.8->nbclassic>=0.4.7->notebook>=6.0->rise) (0.1.4)\n",
      "Requirement already satisfied: rfc3986-validator>=0.1.1 in /srv/conda/envs/notebook/lib/python3.10/site-packages (from jupyter-events>=0.6.0->jupyter-server>=1.8->nbclassic>=0.4.7->notebook>=6.0->rise) (0.1.1)\n",
      "Requirement already satisfied: wcwidth in /srv/conda/envs/notebook/lib/python3.10/site-packages (from prompt-toolkit!=3.0.37,<3.1.0,>=3.0.30->ipython>=7.23.1->ipykernel->notebook>=6.0->rise) (0.2.6)\n",
      "Requirement already satisfied: executing>=1.2.0 in /srv/conda/envs/notebook/lib/python3.10/site-packages (from stack-data->ipython>=7.23.1->ipykernel->notebook>=6.0->rise) (1.2.0)\n",
      "Requirement already satisfied: asttokens>=2.1.0 in /srv/conda/envs/notebook/lib/python3.10/site-packages (from stack-data->ipython>=7.23.1->ipykernel->notebook>=6.0->rise) (2.2.1)\n",
      "Requirement already satisfied: pure-eval in /srv/conda/envs/notebook/lib/python3.10/site-packages (from stack-data->ipython>=7.23.1->ipykernel->notebook>=6.0->rise) (0.2.2)\n",
      "Requirement already satisfied: fqdn in /srv/conda/envs/notebook/lib/python3.10/site-packages (from jsonschema>=2.6->nbformat->notebook>=6.0->rise) (1.5.1)\n",
      "Requirement already satisfied: isoduration in /srv/conda/envs/notebook/lib/python3.10/site-packages (from jsonschema>=2.6->nbformat->notebook>=6.0->rise) (20.11.0)\n",
      "Requirement already satisfied: jsonpointer>1.13 in /srv/conda/envs/notebook/lib/python3.10/site-packages (from jsonschema>=2.6->nbformat->notebook>=6.0->rise) (2.4)\n",
      "Requirement already satisfied: uri-template in /srv/conda/envs/notebook/lib/python3.10/site-packages (from jsonschema>=2.6->nbformat->notebook>=6.0->rise) (1.3.0)\n",
      "Requirement already satisfied: webcolors>=1.11 in /srv/conda/envs/notebook/lib/python3.10/site-packages (from jsonschema>=2.6->nbformat->notebook>=6.0->rise) (1.13)\n",
      "Requirement already satisfied: arrow>=0.15.0 in /srv/conda/envs/notebook/lib/python3.10/site-packages (from isoduration->jsonschema>=2.6->nbformat->notebook>=6.0->rise) (1.2.3)\n",
      "Note: you may need to restart the kernel to use updated packages.\n"
     ]
    }
   ],
   "source": [
    "pip install rise"
   ]
  },
  {
   "cell_type": "markdown",
   "id": "1c79da83-d9b2-41e8-8c33-e6c2c35e8066",
   "metadata": {
    "slideshow": {
     "slide_type": "slide"
    }
   },
   "source": [
    "# 2i2c and Open Science Infrastructure\n",
    "\n",
    "James Colliander ([2i2c.org](https://2i2c.org) and UBC)\n",
    "\n",
    "2023-08-22\n",
    "\n",
    "[ESIP](https://www.esipfed.org/) [Open Science Cluster](https://wiki.esipfed.org/Open_Science_Cluster)\n"
   ]
  },
  {
   "cell_type": "markdown",
   "id": "bc17f0fc-965c-44d9-9638-96555ce18e84",
   "metadata": {
    "slideshow": {
     "slide_type": "skip"
    }
   },
   "source": [
    "Dear Jim,\n",
    "\n",
    "I hope you are doing well. In case you do not remember me, I was the past Community Coordinator for NASA’s Transform to Open Science (TOPS) program; I also co-facilitate the Earth Science Information Partners (ESIP) open science cluster.\n",
    "\n",
    "The ESIP Open Science (OS) Cluster is organizing a webinar series to highlight multiple themes around open science which are of interest to the ESIP community. ESIP is _A Home for Earth science data professionals_ and, over the last 25 years, has facilitated a collaborative community of professionals focused on the use of scientifically sound Earth science data and information to improve and enhance our collective society. The OS Cluster, launched in Spring 2022, gathers and shares knowledge with the aim of increasing awareness and adoption of open science. We have designed this webinar series to highlight and increase awareness around the following open science themes: trust in open science; open science infrastructure considerations; and open science incentives. \n",
    "\n",
    "Given your expertise with co-founding 2i2c, we would like to invite you to present during the regularly scheduled one-hour monthly webinar on **August 22nd, 2023, at 12pm ET**. We would be delighted if you could **present on your efforts around open science infrastructure (these are just some ideas) > why you started 2i2c; what benefits to open science are there from working in the cloud; what are the challenges from an infrastructure standpoint; what does the future look like. We suggest a ~30 minute presentation followed by time for Q&A.** \n",
    "\n",
    "We hope that you have the availability to share your expertise with the ESIP OS cluster, and we look forward to hearing from you. If you are not, do you think Ryan, Yuvi, Chris or any of the others would be willing to share their experience?\n",
    "\n",
    "Cyndi, Jenny, and Morgan"
   ]
  },
  {
   "cell_type": "markdown",
   "id": "d651a657",
   "metadata": {
    "slideshow": {
     "slide_type": "subslide"
    }
   },
   "source": [
    "## Outline\n",
    "\n",
    "1. Why did you start 2i2c?\n",
    "2. What benefits to open science are there from working in the cloud?\n",
    "3. What are the challenges from an infrastructure standpoint?\n",
    "4. What does the future look like?"
   ]
  },
  {
   "cell_type": "markdown",
   "id": "15aa2ee6",
   "metadata": {
    "slideshow": {
     "slide_type": "slide"
    }
   },
   "source": [
    "# Why did you start 2i2c?"
   ]
  },
  {
   "cell_type": "markdown",
   "id": "50fdb36c",
   "metadata": {
    "slideshow": {
     "slide_type": "fragment"
    }
   },
   "source": [
    "1. Interactive Computing was ready ([TRL4](https://www.nasa.gov/directorates/heo/scan/engineering/technology/technology_readiness_level))\n",
    "2. Demand was exploding\n",
    "3. No entity should own systems for scientific information exchange"
   ]
  },
  {
   "cell_type": "markdown",
   "id": "24bcd7f3",
   "metadata": {
    "slideshow": {
     "slide_type": "subslide"
    }
   },
   "source": [
    "![Hamrick-2015](./assets/Deploying_JupyterHub_for_Education_2020-02-25_07-33-22.png)"
   ]
  },
  {
   "cell_type": "markdown",
   "id": "b287ae5e",
   "metadata": {
    "slideshow": {
     "slide_type": "subslide"
    }
   },
   "source": [
    "![syzygy-usage-October-2019](./assets/Grafana_-_Syzygy_Global_2019-10-30_15-42-42.png )"
   ]
  },
  {
   "cell_type": "markdown",
   "id": "7b50d52f",
   "metadata": {
    "slideshow": {
     "slide_type": "subslide"
    }
   },
   "source": [
    "![Callysto-splash](./assets/Callysto_Canada__Building_tomorrows_digital_leaders.-2019-10-31-20-13-39.jpg)"
   ]
  },
  {
   "cell_type": "markdown",
   "id": "b5fbde01",
   "metadata": {
    "slideshow": {
     "slide_type": "subslide"
    }
   },
   "source": [
    "![pangeo-splash](./assets/pangeo-splash.jpg)"
   ]
  },
  {
   "cell_type": "markdown",
   "id": "3317f242",
   "metadata": {
    "slideshow": {
     "slide_type": "subslide"
    }
   },
   "source": [
    "### Should any entity own email?"
   ]
  },
  {
   "cell_type": "markdown",
   "id": "72aedaf8",
   "metadata": {
    "slideshow": {
     "slide_type": "fragment"
    }
   },
   "source": [
    "### Should you have to pay to use the letter \"k\"?"
   ]
  },
  {
   "cell_type": "markdown",
   "id": "64cfc9e7",
   "metadata": {
    "slideshow": {
     "slide_type": "fragment"
    }
   },
   "source": [
    "# No one should own scientific collaboration."
   ]
  },
  {
   "cell_type": "markdown",
   "id": "d8e8215f",
   "metadata": {
    "slideshow": {
     "slide_type": "subslide"
    }
   },
   "source": [
    "## Background\n",
    "\n",
    "+ [2015-02-25: **Jessica Hamrick**, \"Deploying JupyterHub for Education\"](./assets/Deploying_JupyterHub_for_Education_2020-02-25_07-33-22.png)\n",
    "+ [2017-07-11: \"Canadians Land on Jupyter\", PIMS blog](https://medium.com/pims-math/canadians-land-on-jupyter-ef5872720420)\n",
    "+ [2019-08-22: \"National Scale Interactive Computing\", Jupyter Blog](https://blog.jupyter.org/national-scale-interactive-computing-2c104455e062)\n",
    "+ [2019-11-17: \"Communities of practice for Jupyter deployments on shared infrastructure\", ADSA (Sante Fe)](https://colliand.com/talk/communities-of-practice-for-jupyter-deployments-on-shared-infrastructure/); [slides](https://hackmd.io/@colliand/rk_3S33tS#/)\n",
    "+ [2020-02-25: \"Syzygy, Callysto and 2i2c\", SkyDeck (Berkeley)](https://colliand.com/talk/syzygy-callysto-and-2i2c/); [slides](https://hackmd.io/@colliand/Sy9JFnMNI#/); [video](https://www.youtube.com/embed/s0htaQQ2uAY)\n",
    "\n",
    "\n"
   ]
  },
  {
   "cell_type": "markdown",
   "id": "dd79e306",
   "metadata": {
    "slideshow": {
     "slide_type": "subslide"
    }
   },
   "source": [
    "## What is 2i2c?"
   ]
  },
  {
   "cell_type": "markdown",
   "id": "e7a86830",
   "metadata": {
    "slideshow": {
     "slide_type": "fragment"
    }
   },
   "source": [
    "The **International Interactive Computing Collaboration** ([2i2c.org](https://2i2c.org)) is a fiscally sponsored project of [Code for Science and Society](https://codeforscience.org) (CS&S).\n",
    "\n",
    "CS&S is a 501(c)(3) not-for-profit organization based in Oregon."
   ]
  },
  {
   "cell_type": "markdown",
   "id": "6ebbbe7a",
   "metadata": {
    "slideshow": {
     "slide_type": "fragment"
    }
   },
   "source": [
    "2i2c designs, develops, and operates interactive computing platforms in the cloud for communities of practice in research & education. 2i2c builds and supports open source infrastructure that serves these communities.\n",
    "\n",
    "Our mission is to make research and education more impactful, accessible, and delightful by developing, operating, and supporting infrastructure for interactive computing."
   ]
  },
  {
   "cell_type": "markdown",
   "id": "b1fb36d4",
   "metadata": {
    "slideshow": {
     "slide_type": "subslide"
    }
   },
   "source": [
    "## Service Description"
   ]
  },
  {
   "cell_type": "markdown",
   "id": "4f84dd1f",
   "metadata": {
    "slideshow": {
     "slide_type": "subslide"
    }
   },
   "source": [
    "![hub overview](https://drive.google.com/uc?export=download&id=1vL8ekAtUQ4TEik4-oWIn36VAOITdlmpR)"
   ]
  },
  {
   "cell_type": "markdown",
   "id": "33d77ec4",
   "metadata": {
    "slideshow": {
     "slide_type": "subslide"
    }
   },
   "source": [
    "### [Right to replicate](https://2i2c.org/right-to-replicate/)\n"
   ]
  },
  {
   "cell_type": "markdown",
   "id": "930a113d",
   "metadata": {
    "slideshow": {
     "slide_type": "subslide"
    }
   },
   "source": [
    "### [Overview of hub features](https://docs.2i2c.org/en/latest/about/distributions/index.html)"
   ]
  },
  {
   "cell_type": "markdown",
   "id": "123373f1",
   "metadata": {
    "slideshow": {
     "slide_type": "slide"
    }
   },
   "source": [
    "# What benefits to open science are there from working in the cloud?"
   ]
  },
  {
   "cell_type": "markdown",
   "id": "fac97f5c",
   "metadata": {
    "slideshow": {
     "slide_type": "fragment"
    }
   },
   "source": [
    "1. new ways to exchange information\n",
    "2. virtual ubiquity\n",
    "3. more participation in science"
   ]
  },
  {
   "cell_type": "markdown",
   "id": "2189df25",
   "metadata": {
    "slideshow": {
     "slide_type": "subslide"
    }
   },
   "source": [
    "## What is science?\n",
    "\n",
    "\n",
    "A systematic social enterprise that builds and organizes human understanding of the universe with testable explanations and predictions.\n",
    "\n",
    "\n",
    "**The core activity of science is exchanging information.**"
   ]
  },
  {
   "cell_type": "markdown",
   "id": "3ed9895e",
   "metadata": {
    "slideshow": {
     "slide_type": "subslide"
    }
   },
   "source": [
    "\n",
    "![general-communication-system-diagram](https://i.imgur.com/9cr8Glz.jpg)\n",
    "[Claude Shannon, The Bell System Technical Journal,\n",
    "Vol. 27, pp. 379–423, 623–656, July, October, 1948.](https://archive.org/details/bellsystemtechni27amerrich/page/380/mode/2up)"
   ]
  },
  {
   "cell_type": "markdown",
   "id": "ff4faa03",
   "metadata": {
    "slideshow": {
     "slide_type": "subslide"
    }
   },
   "source": [
    "![1948-06-17-bardeen-patent](https://patentimages.storage.googleapis.com/28/f6/43/f18f0530fc4cc3/US2524035-drawings-page-1.png)"
   ]
  },
  {
   "cell_type": "markdown",
   "id": "90c333b3",
   "metadata": {
    "slideshow": {
     "slide_type": "subslide"
    }
   },
   "source": [
    "\n",
    "![1948-06-26-shockley-patent](https://patentimages.storage.googleapis.com/37/0b/9f/3d2ad8a494e196/US2569347-drawings-page-1.png)"
   ]
  },
  {
   "cell_type": "markdown",
   "id": "2438cb5c",
   "metadata": {
    "slideshow": {
     "slide_type": "subslide"
    }
   },
   "source": [
    "![moore's law](https://upload.wikimedia.org/wikipedia/commons/thumb/0/00/Moore%27s_Law_Transistor_Count_1970-2020.png/1920px-Moore%27s_Law_Transistor_Count_1970-2020.png)"
   ]
  },
  {
   "cell_type": "markdown",
   "id": "010aa855",
   "metadata": {
    "slideshow": {
     "slide_type": "subslide"
    }
   },
   "source": [
    "## The cloud enables new ways to exchange information. "
   ]
  },
  {
   "cell_type": "markdown",
   "id": "8dacb9f8",
   "metadata": {
    "slideshow": {
     "slide_type": "fragment"
    }
   },
   "source": [
    "## The cloud enables virtual ubiquity."
   ]
  },
  {
   "cell_type": "markdown",
   "id": "bf6e42fc",
   "metadata": {
    "slideshow": {
     "slide_type": "fragment"
    }
   },
   "source": [
    "## The cloud enables more participation in science."
   ]
  },
  {
   "cell_type": "markdown",
   "id": "4370db03",
   "metadata": {
    "slideshow": {
     "slide_type": "subslide"
    }
   },
   "source": [
    "# Opportunities and risks"
   ]
  },
  {
   "cell_type": "markdown",
   "id": "7ebbf833",
   "metadata": {
    "slideshow": {
     "slide_type": "slide"
    }
   },
   "source": [
    "# What are the challenges from an infrastructure standpoint?\n",
    "\n",
    "# What does the future look like?"
   ]
  },
  {
   "cell_type": "markdown",
   "id": "211eac91",
   "metadata": {
    "slideshow": {
     "slide_type": "subslide"
    }
   },
   "source": [
    "## Infrastructure is advancing faster than social engineering. "
   ]
  },
  {
   "cell_type": "markdown",
   "id": "de2659a7",
   "metadata": {
    "slideshow": {
     "slide_type": "fragment"
    }
   },
   "source": [
    "## Monopoly services vs. [Digital public goods](https://digitalpublicgoods.net/)?\n",
    "+ Facebook vs. Wikipedia"
   ]
  },
  {
   "cell_type": "markdown",
   "id": "6fec94fd",
   "metadata": {
    "slideshow": {
     "slide_type": "subslide"
    }
   },
   "source": [
    "## Skeuomorphism in design\n",
    "\n",
    "![rotary pushbutton phone](https://upload.wikimedia.org/wikipedia/commons/c/cd/Bakelittelefon_knappar.jpg)"
   ]
  },
  {
   "cell_type": "markdown",
   "id": "ce43cf7c",
   "metadata": {
    "slideshow": {
     "slide_type": "subslide"
    }
   },
   "source": [
    "| Past        | Transition  | Future |\n",
    "| ----------- | ----------- | ------ |\n",
    "| Siloed data | Open data | Discoverable data with tools|\n",
    "| Paper in journal in library   | \"Paper\" on internet  | Dynamic science object with data and tools |\n",
    "| Elite university affiliation     | MOOC      | Human right to participate in science |"
   ]
  },
  {
   "cell_type": "markdown",
   "id": "d92b2e6e",
   "metadata": {
    "slideshow": {
     "slide_type": "subslide"
    }
   },
   "source": [
    "## Heros of the Past\n"
   ]
  },
  {
   "cell_type": "markdown",
   "id": "87331574",
   "metadata": {
    "slideshow": {
     "slide_type": "subslide"
    }
   },
   "source": [
    "![Feynman](https://upload.wikimedia.org/wikipedia/en/4/42/Richard_Feynman_Nobel.jpg)"
   ]
  },
  {
   "cell_type": "markdown",
   "id": "6c9a9238",
   "metadata": {
    "slideshow": {
     "slide_type": "subslide"
    }
   },
   "source": [
    "![claude shannon](https://upload.wikimedia.org/wikipedia/commons/9/99/ClaudeShannon_MFO3807.jpg)"
   ]
  },
  {
   "cell_type": "markdown",
   "id": "6b34f7ad",
   "metadata": {
    "slideshow": {
     "slide_type": "subslide"
    }
   },
   "source": [
    "## Heros of the Transition"
   ]
  },
  {
   "cell_type": "markdown",
   "id": "7395eb08",
   "metadata": {
    "slideshow": {
     "slide_type": "subslide"
    }
   },
   "source": [
    "![jane goodall](https://c7x7c5v2.stackpathcdn.com/wp-content/uploads/gallery_06_jg3.jpg)"
   ]
  },
  {
   "cell_type": "markdown",
   "id": "859469e9",
   "metadata": {
    "slideshow": {
     "slide_type": "subslide"
    }
   },
   "source": [
    "![Arati Prabakhar](https://www.whitehouse.gov/wp-content/uploads/2023/03/AP-PHOTO-1_sq.jpg?resize=1200,1200)"
   ]
  },
  {
   "cell_type": "markdown",
   "id": "429cf12c",
   "metadata": {
    "slideshow": {
     "slide_type": "subslide"
    }
   },
   "source": [
    "![Chelle Gentemann](https://www.earthdata.nasa.gov/sites/default/files/imported/Chelle_headshot_crop_resize.png)"
   ]
  },
  {
   "cell_type": "markdown",
   "id": "ec37dbad",
   "metadata": {
    "slideshow": {
     "slide_type": "subslide"
    }
   },
   "source": [
    "## Heros of the Future?"
   ]
  },
  {
   "cell_type": "markdown",
   "id": "75148cbb",
   "metadata": {
    "slideshow": {
     "slide_type": "subslide"
    }
   },
   "source": [
    "![Lorax](https://upload.wikimedia.org/wikipedia/en/1/13/The_Lorax.jpg)"
   ]
  }
 ],
 "metadata": {
  "celltoolbar": "Slideshow",
  "kernelspec": {
   "display_name": "Python 3 (ipykernel)",
   "language": "python",
   "name": "python3"
  },
  "language_info": {
   "codemirror_mode": {
    "name": "ipython",
    "version": 3
   },
   "file_extension": ".py",
   "mimetype": "text/x-python",
   "name": "python",
   "nbconvert_exporter": "python",
   "pygments_lexer": "ipython3",
   "version": "3.10.11"
  }
 },
 "nbformat": 4,
 "nbformat_minor": 5
}
