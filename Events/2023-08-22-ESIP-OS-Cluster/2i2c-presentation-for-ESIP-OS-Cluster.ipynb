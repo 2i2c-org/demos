{
 "cells": [
  {
   "cell_type": "code",
   "execution_count": 1,
   "id": "200b7b5f",
   "metadata": {
    "slideshow": {
     "slide_type": "notes"
    }
   },
   "outputs": [],
   "source": [
    "#conda install -c conda-forge rise"
   ]
  },
  {
   "cell_type": "markdown",
   "id": "1c79da83-d9b2-41e8-8c33-e6c2c35e8066",
   "metadata": {
    "slideshow": {
     "slide_type": "slide"
    }
   },
   "source": [
    "# 2i2c and Open Science Infrastructure\n",
    "\n",
    "James Colliander ([2i2c.org](https://2i2c.org) and UBC)\n",
    "\n",
    "2023-08-22\n",
    "\n",
    "[ESIP](https://www.esipfed.org/) [Open Science Cluster](https://wiki.esipfed.org/Open_Science_Cluster)\n"
   ]
  },
  {
   "cell_type": "markdown",
   "id": "bc17f0fc-965c-44d9-9638-96555ce18e84",
   "metadata": {},
   "source": [
    "Dear Jim,\n",
    "\n",
    "I hope you are doing well. In case you do not remember me, I was the past Community Coordinator for NASA’s Transform to Open Science (TOPS) program; I also co-facilitate the Earth Science Information Partners (ESIP) open science cluster.\n",
    "\n",
    "The ESIP Open Science (OS) Cluster is organizing a webinar series to highlight multiple themes around open science which are of interest to the ESIP community. ESIP is _A Home for Earth science data professionals_ and, over the last 25 years, has facilitated a collaborative community of professionals focused on the use of scientifically sound Earth science data and information to improve and enhance our collective society. The OS Cluster, launched in Spring 2022, gathers and shares knowledge with the aim of increasing awareness and adoption of open science. We have designed this webinar series to highlight and increase awareness around the following open science themes: trust in open science; open science infrastructure considerations; and open science incentives. \n",
    "\n",
    "Given your expertise with co-founding 2i2c, we would like to invite you to present during the regularly scheduled one-hour monthly webinar on **August 22nd, 2023, at 12pm ET**. We would be delighted if you could **present on your efforts around open science infrastructure (these are just some ideas) > why you started 2i2c; what benefits to open science are there from working in the cloud; what are the challenges from an infrastructure standpoint; what does the future look like. We suggest a ~30 minute presentation followed by time for Q&A.** \n",
    "\n",
    "We hope that you have the availability to share your expertise with the ESIP OS cluster, and we look forward to hearing from you. If you are not, do you think Ryan, Yuvi, Chris or any of the others would be willing to share their experience?\n",
    "\n",
    "Cyndi, Jenny, and Morgan"
   ]
  },
  {
   "cell_type": "markdown",
   "id": "15aa2ee6",
   "metadata": {
    "slideshow": {
     "slide_type": "subslide"
    }
   },
   "source": [
    "### Overview\n",
    "\n",
    "1. What is 2i2c?\n",
    "2. Origin story\n",
    "3. Service description\n",
    "4. Usage advice\n",
    "    + gh-scoped-creds\n",
    "    + shared-readwrite\n",
    "    + nb-gitpuller\n",
    "5. Questions from UC Merced"
   ]
  },
  {
   "cell_type": "markdown",
   "id": "dd79e306",
   "metadata": {
    "slideshow": {
     "slide_type": "slide"
    }
   },
   "source": [
    "## What is 2i2c?"
   ]
  },
  {
   "cell_type": "markdown",
   "id": "e7a86830",
   "metadata": {
    "slideshow": {
     "slide_type": "fragment"
    }
   },
   "source": [
    "The **International Interactive Computing Collaboration** ([2i2c.org](https://2i2c.org)) is a fiscally sponsored project of [Code for Science and Society](https://codeforscience.org) (CS&S).\n",
    "\n",
    "CS&S is a 501(c)(3) not-for-profit organization based in Oregon."
   ]
  },
  {
   "cell_type": "markdown",
   "id": "6ebbbe7a",
   "metadata": {
    "slideshow": {
     "slide_type": "fragment"
    }
   },
   "source": [
    "2i2c designs, develops, and operates interactive computing platforms in the cloud for communities of practice in research & education. 2i2c builds and supports open source infrastructure that serves these communities.\n",
    "\n",
    "Our mission is to make research and education more impactful, accessible, and delightful by developing, operating, and supporting infrastructure for interactive computing."
   ]
  },
  {
   "cell_type": "markdown",
   "id": "02ab657a",
   "metadata": {
    "slideshow": {
     "slide_type": "slide"
    }
   },
   "source": [
    "## Origin story"
   ]
  },
  {
   "cell_type": "markdown",
   "id": "40da4f42",
   "metadata": {
    "slideshow": {
     "slide_type": "subslide"
    }
   },
   "source": [
    "2i2c emerged as a confluence of several projects:\n",
    "+ [Data science at UC Berkeley](https://data.berkeley.edu/)\n",
    "+ [Pangeo](https://pangeo.io/): community platform for Big Data geoscience\n",
    "+ [Syzygy](https://syzygy.ca/): JupyterHub service for Canada"
   ]
  },
  {
   "cell_type": "markdown",
   "id": "b1fb36d4",
   "metadata": {
    "slideshow": {
     "slide_type": "slide"
    }
   },
   "source": [
    "## Service Description"
   ]
  },
  {
   "cell_type": "markdown",
   "id": "4f84dd1f",
   "metadata": {
    "slideshow": {
     "slide_type": "subslide"
    }
   },
   "source": [
    "![hub overview](https://drive.google.com/uc?export=download&id=1vL8ekAtUQ4TEik4-oWIn36VAOITdlmpR)"
   ]
  },
  {
   "cell_type": "markdown",
   "id": "33d77ec4",
   "metadata": {
    "slideshow": {
     "slide_type": "subslide"
    }
   },
   "source": [
    "### [Right to replicate](https://2i2c.org/right-to-replicate/)\n"
   ]
  },
  {
   "cell_type": "markdown",
   "id": "930a113d",
   "metadata": {
    "slideshow": {
     "slide_type": "subslide"
    }
   },
   "source": [
    "### [Overview of hub features](https://docs.2i2c.org/en/latest/about/distributions/index.html)"
   ]
  },
  {
   "cell_type": "markdown",
   "id": "5b3b47de",
   "metadata": {
    "slideshow": {
     "slide_type": "slide"
    }
   },
   "source": [
    "## Usage advice"
   ]
  },
  {
   "cell_type": "markdown",
   "id": "c5c96f7c",
   "metadata": {
    "slideshow": {
     "slide_type": "subslide"
    }
   },
   "source": [
    "### gh-scoped-creds\n",
    "\n",
    "+ [finely scoped push access to GitHub from Jupyter](https://github.com/jupyterhub/gh-scoped-creds)"
   ]
  },
  {
   "cell_type": "markdown",
   "id": "33bf8861",
   "metadata": {
    "slideshow": {
     "slide_type": "subslide"
    }
   },
   "source": [
    "### nbgitpuller\n",
    "\n",
    "+ [documentation](https://hub.jupyter.org/nbgitpuller/)\n",
    "+ [nbgitpuller link generator](https://hub.jupyter.org/nbgitpuller/link)"
   ]
  },
  {
   "cell_type": "markdown",
   "id": "2477fc11",
   "metadata": {
    "slideshow": {
     "slide_type": "subslide"
    }
   },
   "source": [
    "### shared-readwrite\n",
    "\n",
    "+ [documentation](https://docs.2i2c.org/en/latest/data/sharing.html)\n",
    "\n"
   ]
  },
  {
   "cell_type": "markdown",
   "id": "123373f1",
   "metadata": {
    "slideshow": {
     "slide_type": "slide"
    }
   },
   "source": [
    "## Questions?"
   ]
  }
 ],
 "metadata": {
  "celltoolbar": "Slideshow",
  "kernelspec": {
   "display_name": "Python 3 (ipykernel)",
   "language": "python",
   "name": "python3"
  },
  "language_info": {
   "codemirror_mode": {
    "name": "ipython",
    "version": 3
   },
   "file_extension": ".py",
   "mimetype": "text/x-python",
   "name": "python",
   "nbconvert_exporter": "python",
   "pygments_lexer": "ipython3",
   "version": "3.10.11"
  }
 },
 "nbformat": 4,
 "nbformat_minor": 5
}
