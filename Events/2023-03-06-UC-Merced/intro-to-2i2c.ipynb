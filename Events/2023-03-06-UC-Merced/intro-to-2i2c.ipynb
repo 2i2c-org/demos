{
 "cells": [
  {
   "cell_type": "markdown",
   "id": "1c79da83-d9b2-41e8-8c33-e6c2c35e8066",
   "metadata": {},
   "source": [
    "# Introduction to 2i2c"
   ]
  },
  {
   "cell_type": "markdown",
   "id": "15aa2ee6",
   "metadata": {},
   "source": [
    "1. What is 2i2c?\n",
    "2. Origin story\n",
    "3. Service description\n",
    "4. Demo\n",
    "    + gh-scoped-creds\n",
    "    + shared-readwrite\n",
    "    + nb-gitpuller\n",
    "5. Questions from UC Merced"
   ]
  },
  {
   "cell_type": "code",
   "execution_count": null,
   "id": "a83dbe6e",
   "metadata": {},
   "outputs": [],
   "source": []
  }
 ],
 "metadata": {
  "kernelspec": {
   "display_name": "Python 3 (ipykernel)",
   "language": "python",
   "name": "python3"
  },
  "language_info": {
   "codemirror_mode": {
    "name": "ipython",
    "version": 3
   },
   "file_extension": ".py",
   "mimetype": "text/x-python",
   "name": "python",
   "nbconvert_exporter": "python",
   "pygments_lexer": "ipython3",
   "version": "3.10.8"
  }
 },
 "nbformat": 4,
 "nbformat_minor": 5
}
