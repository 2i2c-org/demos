{
 "cells": [
  {
   "cell_type": "code",
   "execution_count": 1,
   "id": "200b7b5f",
   "metadata": {
    "slideshow": {
     "slide_type": "notes"
    }
   },
   "outputs": [],
   "source": [
    "#conda install -c conda-forge rise"
   ]
  },
  {
   "cell_type": "markdown",
   "id": "1c79da83-d9b2-41e8-8c33-e6c2c35e8066",
   "metadata": {
    "slideshow": {
     "slide_type": "slide"
    }
   },
   "source": [
    "# Introduction to 2i2c\n",
    "\n",
    "James Colliander (2i2c and UBC)\n",
    "\n",
    "2023-03-06\n",
    "\n",
    "UC Merced"
   ]
  },
  {
   "cell_type": "markdown",
   "id": "15aa2ee6",
   "metadata": {
    "slideshow": {
     "slide_type": "subslide"
    }
   },
   "source": [
    "### Overview\n",
    "\n",
    "1. What is 2i2c?\n",
    "2. Origin story\n",
    "3. Service description\n",
    "4. Usage advice\n",
    "    + gh-scoped-creds\n",
    "    + shared-readwrite\n",
    "    + nb-gitpuller\n",
    "5. Questions from UC Merced"
   ]
  },
  {
   "cell_type": "markdown",
   "id": "dd79e306",
   "metadata": {
    "slideshow": {
     "slide_type": "slide"
    }
   },
   "source": [
    "## What is 2i2c?"
   ]
  },
  {
   "cell_type": "markdown",
   "id": "e7a86830",
   "metadata": {
    "slideshow": {
     "slide_type": "fragment"
    }
   },
   "source": [
    "The **International Interactive Computing Collaboration** ([2i2c.org](https://2i2c.org)) is a fiscally sponsored project of [Code for Science and Society](https://codeforscience.org) (CS&S).\n",
    "\n",
    "CS&S is a 501(c)(3) not-for-profit organization based in Oregon."
   ]
  },
  {
   "cell_type": "markdown",
   "id": "6ebbbe7a",
   "metadata": {
    "slideshow": {
     "slide_type": "fragment"
    }
   },
   "source": [
    "2i2c designs, develops, and operates interactive computing platforms in the cloud for communities of practice in research & education. 2i2c builds and supports open source infrastructure that serves these communities.\n",
    "\n",
    "Our mission is to make research and education more impactful, accessible, and delightful by developing, operating, and supporting infrastructure for interactive computing."
   ]
  },
  {
   "cell_type": "markdown",
   "id": "02ab657a",
   "metadata": {
    "slideshow": {
     "slide_type": "slide"
    }
   },
   "source": [
    "## Origin story"
   ]
  },
  {
   "cell_type": "markdown",
   "id": "85bf0f0c",
   "metadata": {
    "slideshow": {
     "slide_type": "subslide"
    }
   },
   "source": [
    "2i2c emerged as a confluence of several projects:\n",
    "+ [Data science at UC Berkeley](https://data.berkeley.edu/)\n",
    "+ [Pangeo](https://pangeo.io/): community platform for Big Data geoscience\n",
    "+ [Syzygy](https://syzygy.ca/): JupyterHub service for Canada"
   ]
  },
  {
   "cell_type": "markdown",
   "id": "b1fb36d4",
   "metadata": {
    "slideshow": {
     "slide_type": "slide"
    }
   },
   "source": [
    "## Service Description"
   ]
  },
  {
   "cell_type": "markdown",
   "id": "e31dd9ac",
   "metadata": {
    "slideshow": {
     "slide_type": "subslide"
    }
   },
   "source": [
    "![hub overview](https://drive.google.com/uc?export=download&id=1vL8ekAtUQ4TEik4-oWIn36VAOITdlmpR)"
   ]
  },
  {
   "cell_type": "markdown",
   "id": "925b3799",
   "metadata": {
    "slideshow": {
     "slide_type": "subslide"
    }
   },
   "source": [
    "### [Right to replicate](https://2i2c.org/right-to-replicate/)\n"
   ]
  },
  {
   "cell_type": "markdown",
   "id": "e5eb2f6a",
   "metadata": {
    "slideshow": {
     "slide_type": "subslide"
    }
   },
   "source": [
    "### [Overview of hub features](https://docs.2i2c.org/en/latest/about/distributions/index.html)"
   ]
  },
  {
   "cell_type": "markdown",
   "id": "5b3b47de",
   "metadata": {
    "slideshow": {
     "slide_type": "slide"
    }
   },
   "source": [
    "## Usage advice"
   ]
  },
  {
   "cell_type": "markdown",
   "id": "97db1218",
   "metadata": {
    "slideshow": {
     "slide_type": "subslide"
    }
   },
   "source": [
    "### gh-scoped-creds\n",
    "\n",
    "+ [finely scoped push access to GitHub from Jupyter](https://github.com/jupyterhub/gh-scoped-creds)"
   ]
  },
  {
   "cell_type": "markdown",
   "id": "be956d85",
   "metadata": {
    "slideshow": {
     "slide_type": "subslide"
    }
   },
   "source": [
    "### nbgitpuller\n",
    "\n",
    "+ [documentation](https://hub.jupyter.org/nbgitpuller/)\n",
    "+ [nbgitpuller link generator](https://hub.jupyter.org/nbgitpuller/link)"
   ]
  },
  {
   "cell_type": "code",
   "execution_count": null,
   "id": "37cfdc74",
   "metadata": {},
   "outputs": [],
   "source": [
    "### shared-readwrite\n",
    "\n"
   ]
  },
  {
   "cell_type": "markdown",
   "id": "123373f1",
   "metadata": {
    "slideshow": {
     "slide_type": "slide"
    }
   },
   "source": [
    "## Questions?"
   ]
  },
  {
   "cell_type": "code",
   "execution_count": null,
   "id": "08bbb344",
   "metadata": {},
   "outputs": [],
   "source": []
  }
 ],
 "metadata": {
  "celltoolbar": "Slideshow",
  "kernelspec": {
   "display_name": "Python 3 (ipykernel)",
   "language": "python",
   "name": "python3"
  },
  "language_info": {
   "codemirror_mode": {
    "name": "ipython",
    "version": 3
   },
   "file_extension": ".py",
   "mimetype": "text/x-python",
   "name": "python",
   "nbconvert_exporter": "python",
   "pygments_lexer": "ipython3",
   "version": "3.10.8"
  }
 },
 "nbformat": 4,
 "nbformat_minor": 5
}
